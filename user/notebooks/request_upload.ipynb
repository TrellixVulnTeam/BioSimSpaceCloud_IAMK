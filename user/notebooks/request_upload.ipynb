{
 "cells": [
  {
   "cell_type": "code",
   "execution_count": 1,
   "metadata": {},
   "outputs": [],
   "source": [
    "import Acquire.Client"
   ]
  },
  {
   "cell_type": "code",
   "execution_count": 2,
   "metadata": {},
   "outputs": [],
   "source": [
    "user = Acquire.Client.User(\"chryswoods\")"
   ]
  },
  {
   "cell_type": "code",
   "execution_count": 3,
   "metadata": {},
   "outputs": [
    {
     "data": {
      "text/plain": [
       "('http://130.61.60.88:8080/r/identity/bed5c2fc',\n",
       " <qrcode.image.pil.PilImage at 0x10ff4cc88>)"
      ]
     },
     "execution_count": 3,
     "metadata": {},
     "output_type": "execute_result"
    }
   ],
   "source": [
    "user.request_login()"
   ]
  },
  {
   "cell_type": "code",
   "execution_count": 4,
   "metadata": {},
   "outputs": [
    {
     "data": {
      "text/plain": [
       "True"
      ]
     },
     "execution_count": 4,
     "metadata": {},
     "output_type": "execute_result"
    }
   ],
   "source": [
    "user.wait_for_login()"
   ]
  },
  {
   "cell_type": "code",
   "execution_count": 5,
   "metadata": {},
   "outputs": [],
   "source": [
    "drive = Acquire.Client.CloudDrive(user)"
   ]
  },
  {
   "cell_type": "code",
   "execution_count": 26,
   "metadata": {},
   "outputs": [
    {
     "data": {
      "text/plain": [
       "{'status': 0,\n",
       " 'message': None,\n",
       " 'access_token': {'class': 'FileWriteRequest',\n",
       "  'uid': '31bf082c-ac97-426e-b78f-385f8685a173',\n",
       "  'destination_keys': ['.'],\n",
       "  'file_sizes': [2175],\n",
       "  'checksums': ['0f221c2a03f1370b9f229d81f6ecf76e'],\n",
       "  'authorisation': {'user_uid': '6f463b04-be60-4fbd-a2b6-44caaa61ac41',\n",
       "   'session_uid': 'bed5c2fc-1364-4bea-96fb-aee8aadf3afa',\n",
       "   'identity_url': 'http://130.61.60.88:8080/r/identity',\n",
       "   'auth_timestamp': 1539719811.684035,\n",
       "   'signature': 'CIUwMRK1XQMG3+t/iE5nyFWtIzOdcpYuymKY7cOAkB6J7c+3U4aX9wOVxZk1RkHV+uvZZek4TBTf0oHmIyLIEuMsW6bxfQ8gOlH52c0jYinEphg9BnvOvxOOVK5RkCjjuzbY4MBIFNqCye9q3m20qwjbr2Kce9KF+fOKVP2AQkVkaL1x2ddABo0IFpxrG9YLqcpBJzsxQnu4BaU+6deXmJH7CQW7wY98LO0c7sBBRq0YfBJKSh/temH0WLFQifeW+n6EiaCLLexpCLlU+lRiBG0B0IB33KQ+JC6usG+iWNboVGjP0aAzNLAqvzDMFoqgcTEg17Uad9I/oxzaEDXDuA=='},\n",
       "  'account_uid': '419fa73f-ec89-4155-924f-766c4c14e08d',\n",
       "  'accounting_service_url': 'http://130.61.60.88:8080/r/accounting'}}"
      ]
     },
     "execution_count": 26,
     "metadata": {},
     "output_type": "execute_result"
    }
   ],
   "source": [
    "drive.upload(\"register.ipynb\")"
   ]
  },
  {
   "cell_type": "code",
   "execution_count": 8,
   "metadata": {},
   "outputs": [
    {
     "name": "stdout",
     "output_type": "stream",
     "text": [
      "Logging out chryswoods from session bed5c2fc-1364-4bea-96fb-aee8aadf3afa\n",
      "{'status': 0, 'message': 'Successfully logged out'}\n"
     ]
    },
    {
     "data": {
      "text/plain": [
       "{'status': 0, 'message': 'Successfully logged out'}"
      ]
     },
     "execution_count": 8,
     "metadata": {},
     "output_type": "execute_result"
    }
   ],
   "source": [
    "user.logout()"
   ]
  },
  {
   "cell_type": "code",
   "execution_count": 22,
   "metadata": {},
   "outputs": [],
   "source": [
    "account = Acquire.Client.Account(user)"
   ]
  },
  {
   "cell_type": "code",
   "execution_count": 24,
   "metadata": {},
   "outputs": [
    {
     "data": {
      "text/plain": [
       "Decimal('0.000000')"
      ]
     },
     "execution_count": 24,
     "metadata": {},
     "output_type": "execute_result"
    }
   ],
   "source": [
    "account.balance()"
   ]
  }
 ],
 "metadata": {
  "kernelspec": {
   "display_name": "Python 3",
   "language": "python",
   "name": "python3"
  },
  "language_info": {
   "codemirror_mode": {
    "name": "ipython",
    "version": 3
   },
   "file_extension": ".py",
   "mimetype": "text/x-python",
   "name": "python",
   "nbconvert_exporter": "python",
   "pygments_lexer": "ipython3",
   "version": "3.6.3"
  }
 },
 "nbformat": 4,
 "nbformat_minor": 2
}
