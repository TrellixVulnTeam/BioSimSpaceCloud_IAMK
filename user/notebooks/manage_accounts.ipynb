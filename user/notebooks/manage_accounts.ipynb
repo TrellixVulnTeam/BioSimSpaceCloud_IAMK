{
 "cells": [
  {
   "cell_type": "code",
   "execution_count": 1,
   "metadata": {},
   "outputs": [],
   "source": [
    "import Acquire.Client"
   ]
  },
  {
   "cell_type": "code",
   "execution_count": 2,
   "metadata": {},
   "outputs": [],
   "source": [
    "user = Acquire.Client.User(\"chryswoods\")"
   ]
  },
  {
   "cell_type": "code",
   "execution_count": 3,
   "metadata": {},
   "outputs": [
    {
     "data": {
      "text/plain": [
       "('http://130.61.60.88:8080/r/identity/21a25cf4',\n",
       " <qrcode.image.pil.PilImage at 0x10fd068d0>)"
      ]
     },
     "execution_count": 3,
     "metadata": {},
     "output_type": "execute_result"
    }
   ],
   "source": [
    "user.request_login()"
   ]
  },
  {
   "cell_type": "code",
   "execution_count": 6,
   "metadata": {},
   "outputs": [
    {
     "data": {
      "text/plain": [
       "True"
      ]
     },
     "execution_count": 6,
     "metadata": {},
     "output_type": "execute_result"
    }
   ],
   "source": [
    "user.wait_for_login()\n",
    "user.is_logged_in()"
   ]
  },
  {
   "cell_type": "code",
   "execution_count": 7,
   "metadata": {},
   "outputs": [
    {
     "ename": "RemoteFunctionCallError",
     "evalue": "Error calling 'http://130.61.60.88:8080/r/accounting/create-account'. Server returned error code '-2' with message 'AccountError: The account called 'main account' in group '6f463b04-be60-4fbd-a2b6-44caaa61ac41' already exists!\nTraceback:\n  File \"create_account.py\", line 83, in handler\n    description=description)\n  File \"/home/fnuser/Acquire/Accounting/_accounts.py\", line 100, in create_account\n    \"already exists!\" % (name, self.group()))\n'",
     "output_type": "error",
     "traceback": [
      "\u001b[0;31m---------------------------------------------------------------------------\u001b[0m",
      "\u001b[0;31mRemoteFunctionCallError\u001b[0m                   Traceback (most recent call last)",
      "\u001b[0;32m<ipython-input-7-7f76163cb50d>\u001b[0m in \u001b[0;36m<module>\u001b[0;34m()\u001b[0m\n\u001b[0;32m----> 1\u001b[0;31m \u001b[0maccount\u001b[0m \u001b[0;34m=\u001b[0m \u001b[0mAcquire\u001b[0m\u001b[0;34m.\u001b[0m\u001b[0mClient\u001b[0m\u001b[0;34m.\u001b[0m\u001b[0mAccount\u001b[0m\u001b[0;34m.\u001b[0m\u001b[0mcreate_account\u001b[0m\u001b[0;34m(\u001b[0m\u001b[0muser\u001b[0m\u001b[0;34m,\u001b[0m \u001b[0;34m\"main account\"\u001b[0m\u001b[0;34m,\u001b[0m \u001b[0;34m\"This my main account\"\u001b[0m\u001b[0;34m)\u001b[0m\u001b[0;34m\u001b[0m\u001b[0m\n\u001b[0m",
      "\u001b[0;32m~/Work/BioSimSpaceCloud/Acquire/Client/_account.py\u001b[0m in \u001b[0;36mcreate_account\u001b[0;34m(user, account_name, description, accounting_service, accounting_url)\u001b[0m\n\u001b[1;32m    194\u001b[0m                     \u001b[0margs_key\u001b[0m\u001b[0;34m=\u001b[0m\u001b[0maccounting_service\u001b[0m\u001b[0;34m.\u001b[0m\u001b[0mpublic_key\u001b[0m\u001b[0;34m(\u001b[0m\u001b[0;34m)\u001b[0m\u001b[0;34m,\u001b[0m\u001b[0;34m\u001b[0m\u001b[0m\n\u001b[1;32m    195\u001b[0m                     \u001b[0mresponse_key\u001b[0m\u001b[0;34m=\u001b[0m\u001b[0mprivkey\u001b[0m\u001b[0;34m,\u001b[0m\u001b[0;34m\u001b[0m\u001b[0m\n\u001b[0;32m--> 196\u001b[0;31m                     public_cert=accounting_service.public_certificate())\n\u001b[0m\u001b[1;32m    197\u001b[0m \u001b[0;34m\u001b[0m\u001b[0m\n\u001b[1;32m    198\u001b[0m         \u001b[0maccount_uid\u001b[0m \u001b[0;34m=\u001b[0m \u001b[0mresult\u001b[0m\u001b[0;34m[\u001b[0m\u001b[0;34m\"account_uid\"\u001b[0m\u001b[0;34m]\u001b[0m\u001b[0;34m\u001b[0m\u001b[0m\n",
      "\u001b[0;32m~/Work/BioSimSpaceCloud/Acquire/Service/_function.py\u001b[0m in \u001b[0;36mcall_function\u001b[0;34m(function_url, args, args_key, response_key, public_cert)\u001b[0m\n\u001b[1;32m    272\u001b[0m                 \u001b[0;34m\"Error calling '%s'. Server returned \"\u001b[0m\u001b[0;34m\u001b[0m\u001b[0m\n\u001b[1;32m    273\u001b[0m                 \u001b[0;34m\"error code '%d' with message '%s'\"\u001b[0m \u001b[0;34m%\u001b[0m\u001b[0;34m\u001b[0m\u001b[0m\n\u001b[0;32m--> 274\u001b[0;31m                 (function_url, result[\"status\"], result[\"message\"]))\n\u001b[0m\u001b[1;32m    275\u001b[0m \u001b[0;34m\u001b[0m\u001b[0m\n\u001b[1;32m    276\u001b[0m     \u001b[0;32mreturn\u001b[0m \u001b[0mresult\u001b[0m\u001b[0;34m\u001b[0m\u001b[0m\n",
      "\u001b[0;31mRemoteFunctionCallError\u001b[0m: Error calling 'http://130.61.60.88:8080/r/accounting/create-account'. Server returned error code '-2' with message 'AccountError: The account called 'main account' in group '6f463b04-be60-4fbd-a2b6-44caaa61ac41' already exists!\nTraceback:\n  File \"create_account.py\", line 83, in handler\n    description=description)\n  File \"/home/fnuser/Acquire/Accounting/_accounts.py\", line 100, in create_account\n    \"already exists!\" % (name, self.group()))\n'"
     ]
    }
   ],
   "source": [
    "account = Acquire.Client.Account.create_account(user, \"main account\", \"This my main account\")"
   ]
  },
  {
   "cell_type": "code",
   "execution_count": 8,
   "metadata": {},
   "outputs": [
    {
     "ename": "NameError",
     "evalue": "name 'account' is not defined",
     "output_type": "error",
     "traceback": [
      "\u001b[0;31m---------------------------------------------------------------------------\u001b[0m",
      "\u001b[0;31mNameError\u001b[0m                                 Traceback (most recent call last)",
      "\u001b[0;32m<ipython-input-8-6a95d6456a22>\u001b[0m in \u001b[0;36m<module>\u001b[0;34m()\u001b[0m\n\u001b[0;32m----> 1\u001b[0;31m \u001b[0mprint\u001b[0m\u001b[0;34m(\u001b[0m\u001b[0maccount\u001b[0m\u001b[0;34m.\u001b[0m\u001b[0muid\u001b[0m\u001b[0;34m(\u001b[0m\u001b[0;34m)\u001b[0m\u001b[0;34m)\u001b[0m\u001b[0;34m\u001b[0m\u001b[0m\n\u001b[0m",
      "\u001b[0;31mNameError\u001b[0m: name 'account' is not defined"
     ]
    }
   ],
   "source": [
    "print(account.uid())"
   ]
  },
  {
   "cell_type": "code",
   "execution_count": 11,
   "metadata": {},
   "outputs": [
    {
     "ename": "RemoteFunctionCallError",
     "evalue": "Error calling 'http://130.61.60.88:8080/r/accounting/get-account-uids'. Server returned error code '-2' with message 'AttributeError: 'str' object has no attribute 'name'\nTraceback:\n  File \"get_account_uids.py\", line 76, in handler\n    account_uids[account.uid()] = account.name()\n'",
     "output_type": "error",
     "traceback": [
      "\u001b[0;31m---------------------------------------------------------------------------\u001b[0m",
      "\u001b[0;31mRemoteFunctionCallError\u001b[0m                   Traceback (most recent call last)",
      "\u001b[0;32m<ipython-input-11-672d00c6edc7>\u001b[0m in \u001b[0;36m<module>\u001b[0;34m()\u001b[0m\n\u001b[0;32m----> 1\u001b[0;31m \u001b[0maccounts\u001b[0m \u001b[0;34m=\u001b[0m \u001b[0mAcquire\u001b[0m\u001b[0;34m.\u001b[0m\u001b[0mClient\u001b[0m\u001b[0;34m.\u001b[0m\u001b[0mAccount\u001b[0m\u001b[0;34m.\u001b[0m\u001b[0mget_accounts\u001b[0m\u001b[0;34m(\u001b[0m\u001b[0muser\u001b[0m\u001b[0;34m)\u001b[0m\u001b[0;34m\u001b[0m\u001b[0m\n\u001b[0m",
      "\u001b[0;32m~/Work/BioSimSpaceCloud/Acquire/Client/_account.py\u001b[0m in \u001b[0;36mget_accounts\u001b[0;34m(user, accounting_service, accounting_url)\u001b[0m\n\u001b[1;32m    213\u001b[0m         account_uids = Account.get_account_uids(\n\u001b[1;32m    214\u001b[0m                             \u001b[0muser\u001b[0m\u001b[0;34m,\u001b[0m \u001b[0maccounting_service\u001b[0m\u001b[0;34m=\u001b[0m\u001b[0maccounting_service\u001b[0m\u001b[0;34m,\u001b[0m\u001b[0;34m\u001b[0m\u001b[0m\n\u001b[0;32m--> 215\u001b[0;31m                             accounting_url=accounting_url)\n\u001b[0m\u001b[1;32m    216\u001b[0m \u001b[0;34m\u001b[0m\u001b[0m\n\u001b[1;32m    217\u001b[0m         \u001b[0maccounts\u001b[0m \u001b[0;34m=\u001b[0m \u001b[0;34m[\u001b[0m\u001b[0;34m]\u001b[0m\u001b[0;34m\u001b[0m\u001b[0m\n",
      "\u001b[0;32m~/Work/BioSimSpaceCloud/Acquire/Client/_account.py\u001b[0m in \u001b[0;36mget_account_uids\u001b[0;34m(user, accounting_service, accounting_url)\u001b[0m\n\u001b[1;32m    148\u001b[0m                 \u001b[0margs_key\u001b[0m\u001b[0;34m=\u001b[0m\u001b[0maccounting_service\u001b[0m\u001b[0;34m.\u001b[0m\u001b[0mpublic_key\u001b[0m\u001b[0;34m(\u001b[0m\u001b[0;34m)\u001b[0m\u001b[0;34m,\u001b[0m\u001b[0;34m\u001b[0m\u001b[0m\n\u001b[1;32m    149\u001b[0m                 \u001b[0mresponse_key\u001b[0m\u001b[0;34m=\u001b[0m\u001b[0mprivkey\u001b[0m\u001b[0;34m,\u001b[0m\u001b[0;34m\u001b[0m\u001b[0m\n\u001b[0;32m--> 150\u001b[0;31m                 public_cert=accounting_service.public_certificate())\n\u001b[0m\u001b[1;32m    151\u001b[0m \u001b[0;34m\u001b[0m\u001b[0m\n\u001b[1;32m    152\u001b[0m         \u001b[0;32mreturn\u001b[0m \u001b[0mresult\u001b[0m\u001b[0;34m[\u001b[0m\u001b[0;34m\"account_uids\"\u001b[0m\u001b[0;34m]\u001b[0m\u001b[0;34m\u001b[0m\u001b[0m\n",
      "\u001b[0;32m~/Work/BioSimSpaceCloud/Acquire/Service/_function.py\u001b[0m in \u001b[0;36mcall_function\u001b[0;34m(function_url, args, args_key, response_key, public_cert)\u001b[0m\n\u001b[1;32m    272\u001b[0m                 \u001b[0;34m\"Error calling '%s'. Server returned \"\u001b[0m\u001b[0;34m\u001b[0m\u001b[0m\n\u001b[1;32m    273\u001b[0m                 \u001b[0;34m\"error code '%d' with message '%s'\"\u001b[0m \u001b[0;34m%\u001b[0m\u001b[0;34m\u001b[0m\u001b[0m\n\u001b[0;32m--> 274\u001b[0;31m                 (function_url, result[\"status\"], result[\"message\"]))\n\u001b[0m\u001b[1;32m    275\u001b[0m \u001b[0;34m\u001b[0m\u001b[0m\n\u001b[1;32m    276\u001b[0m     \u001b[0;32mreturn\u001b[0m \u001b[0mresult\u001b[0m\u001b[0;34m\u001b[0m\u001b[0m\n",
      "\u001b[0;31mRemoteFunctionCallError\u001b[0m: Error calling 'http://130.61.60.88:8080/r/accounting/get-account-uids'. Server returned error code '-2' with message 'AttributeError: 'str' object has no attribute 'name'\nTraceback:\n  File \"get_account_uids.py\", line 76, in handler\n    account_uids[account.uid()] = account.name()\n'"
     ]
    }
   ],
   "source": [
    "accounts = Acquire.Client.Account.get_accounts(user)"
   ]
  },
  {
   "cell_type": "code",
   "execution_count": null,
   "metadata": {},
   "outputs": [],
   "source": [
    "print(accounts)"
   ]
  },
  {
   "cell_type": "code",
   "execution_count": null,
   "metadata": {},
   "outputs": [],
   "source": [
    "user.logout()"
   ]
  },
  {
   "cell_type": "code",
   "execution_count": null,
   "metadata": {},
   "outputs": [],
   "source": []
  }
 ],
 "metadata": {
  "kernelspec": {
   "display_name": "Python 3",
   "language": "python",
   "name": "python3"
  },
  "language_info": {
   "codemirror_mode": {
    "name": "ipython",
    "version": 3
   },
   "file_extension": ".py",
   "mimetype": "text/x-python",
   "name": "python",
   "nbconvert_exporter": "python",
   "pygments_lexer": "ipython3",
   "version": "3.6.3"
  }
 },
 "nbformat": 4,
 "nbformat_minor": 2
}
