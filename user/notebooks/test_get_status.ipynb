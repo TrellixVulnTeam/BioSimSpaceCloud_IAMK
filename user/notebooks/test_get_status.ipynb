{
 "cells": [
  {
   "cell_type": "markdown",
   "metadata": {},
   "source": [
    "This notebook is used to test that I can successfully get the status of a service, even if I ask for the service to use a key to encrypt traffic"
   ]
  },
  {
   "cell_type": "code",
   "execution_count": 1,
   "metadata": {},
   "outputs": [],
   "source": [
    "import Acquire"
   ]
  },
  {
   "cell_type": "code",
   "execution_count": 2,
   "metadata": {},
   "outputs": [],
   "source": [
    "service_url = \"http://130.61.60.88:8080/r/identity\""
   ]
  },
  {
   "cell_type": "code",
   "execution_count": 3,
   "metadata": {},
   "outputs": [],
   "source": [
    "response = Acquire.call_function(service_url, {})"
   ]
  },
  {
   "cell_type": "code",
   "execution_count": 4,
   "metadata": {},
   "outputs": [
    {
     "data": {
      "text/plain": [
       "{'status': 0,\n",
       " 'message': 'Success',\n",
       " 'service_info': {'uuid': '6c47afa2-abde-4082-9962-097829197d7e',\n",
       "  'service_type': 'accounting',\n",
       "  'service_url': 'http://130.61.60.88:8080/r/accounting',\n",
       "  'public_certificate': 'LS0tLS1CRUdJTiBQVUJMSUMgS0VZLS0tLS0KTUlJQklqQU5CZ2txaGtpRzl3MEJBUUVGQUFPQ0FROEFNSUlCQ2dLQ0FRRUE2WW9KSmV5UjZVSjFTNGhGRFIxQQpIM2Jnc2c1amJoY0xCbHdvaFpiUXpIYTNHOTZ5WHdXcWF1cG05VU03WXVJcHRtaFdVdjl6aTllV3czbTgwWGZCClpWVUdkd2RXZUsrOFNpdUozOUN5U2RabU8xTHBWd3AwVG1UREZWdHliNzlBbGdXWk5yUitHVG14bFgydGxmb2UKeUZHa3JGSVNuYU5uVlphTWp5VXFUck44blMwNFQ4ZHRscVFUNGRJR1RPRTNBMGpFWUVPMjJ2bEZsNFRyMkxjdAo1eG5vWW54RklBUCttN1J3MFVaTTEzZ2FTeUJ1Q0NLTUlaWHE2R1pZdGl3MmYxaVI0Q1kweldCUDV6enhWbzNhCmorL3Mremc4dVd5Z0NmUGN1NG15RExtWjNGSmVoNHBVV1k0VWs3b0QzQ3Q5MTB6OEFFeE9nVWVONGl0dXF0RlkKT3dJREFRQUIKLS0tLS1FTkQgUFVCTElDIEtFWS0tLS0tCg==',\n",
       "  'public_key': 'LS0tLS1CRUdJTiBQVUJMSUMgS0VZLS0tLS0KTUlJQklqQU5CZ2txaGtpRzl3MEJBUUVGQUFPQ0FROEFNSUlCQ2dLQ0FRRUE0UU9BaHpSd3VJUXYwTG40TFBpWQpVOFJYR1A3QTU4UmpkS3krYlRTaDFBNUNOMHR1UFVrQ0RoMlI2VmdiSnJmcHlPell4TlErU2xGUWJxUkE4b2R6CithbWxtbi9ITG1IQ2RaYkNqa1Y0cUdkV2tEMmNhdFBFSS9pdExobTRkS0U2WkpUTzVsa3hyenVrdUUwR2MxZngKeUpweEtjNXJhL0ExMTVjaXorNTRoeUN5b0tmRnVPZlRZQ3l2YnkwQmNUbUdtaTFpOXJKY1o0WVVHOC9kajczdQp5NjVRRHE5YkZDYURTaThnZU1ZcjQrYWU1ckx5dkFsV2FaY1I5bndGSzZXVnNYZmdqbnJtVnJLLzkvTUpyOEZvCm4veDZNZEo2aWc0dTFlb0JmOUZtbEVHNUxCQ3NSUU9mZXNRaDgrbkh4S1lSbjFselJ2ak5PQS9OYld1TlJJV0cKYlFJREFRQUIKLS0tLS1FTkQgUFVCTElDIEtFWS0tLS0tCg=='}}"
      ]
     },
     "execution_count": 4,
     "metadata": {},
     "output_type": "execute_result"
    }
   ],
   "source": [
    "response"
   ]
  },
  {
   "cell_type": "code",
   "execution_count": null,
   "metadata": {},
   "outputs": [],
   "source": [
    "key = Acquire.PrivateKey()"
   ]
  },
  {
   "cell_type": "code",
   "execution_count": null,
   "metadata": {},
   "outputs": [],
   "source": [
    "response2 = Acquire.call_function(service_url, {}, response_key=key)"
   ]
  },
  {
   "cell_type": "code",
   "execution_count": null,
   "metadata": {},
   "outputs": [],
   "source": [
    "assert( response2 == response )"
   ]
  },
  {
   "cell_type": "code",
   "execution_count": null,
   "metadata": {},
   "outputs": [],
   "source": [
    "service = Acquire.Service.from_data(response[\"service_info\"])\n",
    "print(service)"
   ]
  },
  {
   "cell_type": "code",
   "execution_count": null,
   "metadata": {},
   "outputs": [],
   "source": [
    "response3 = Acquire.call_function(service_url, {}, args_key=service.public_key())"
   ]
  },
  {
   "cell_type": "code",
   "execution_count": null,
   "metadata": {},
   "outputs": [],
   "source": [
    "assert( response3 == response )"
   ]
  },
  {
   "cell_type": "code",
   "execution_count": null,
   "metadata": {},
   "outputs": [],
   "source": [
    "response4 = Acquire.call_function(service_url, {}, args_key=service.public_key(), response_key=key)"
   ]
  },
  {
   "cell_type": "code",
   "execution_count": null,
   "metadata": {},
   "outputs": [],
   "source": [
    "assert( response4 == response )"
   ]
  },
  {
   "cell_type": "code",
   "execution_count": null,
   "metadata": {},
   "outputs": [],
   "source": [
    "user = Acquire.User(\"chryswoods\")"
   ]
  },
  {
   "cell_type": "code",
   "execution_count": null,
   "metadata": {},
   "outputs": [],
   "source": [
    "user_service = user.identity_service()"
   ]
  },
  {
   "cell_type": "code",
   "execution_count": null,
   "metadata": {},
   "outputs": [],
   "source": [
    "assert( user_service.uuid() == service.uuid() )"
   ]
  },
  {
   "cell_type": "code",
   "execution_count": null,
   "metadata": {},
   "outputs": [],
   "source": []
  }
 ],
 "metadata": {
  "kernelspec": {
   "display_name": "Python 3",
   "language": "python",
   "name": "python3"
  },
  "language_info": {
   "codemirror_mode": {
    "name": "ipython",
    "version": 3
   },
   "file_extension": ".py",
   "mimetype": "text/x-python",
   "name": "python",
   "nbconvert_exporter": "python",
   "pygments_lexer": "ipython3",
   "version": "3.6.3"
  }
 },
 "nbformat": 4,
 "nbformat_minor": 2
}
