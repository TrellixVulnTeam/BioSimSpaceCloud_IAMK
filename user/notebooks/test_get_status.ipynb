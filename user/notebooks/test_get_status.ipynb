{
 "cells": [
  {
   "cell_type": "markdown",
   "metadata": {},
   "source": [
    "This notebook is used to test that I can successfully get the status of a service, even if I ask for the service to use a key to encrypt traffic"
   ]
  },
  {
   "cell_type": "code",
   "execution_count": 28,
   "metadata": {},
   "outputs": [],
   "source": [
    "import Acquire.Service\n",
    "import Acquire.Crypto\n",
    "import Acquire.Client"
   ]
  },
  {
   "cell_type": "code",
   "execution_count": 37,
   "metadata": {},
   "outputs": [],
   "source": [
    "service_url = \"http://130.61.60.88:8080/t/accounting/\""
   ]
  },
  {
   "cell_type": "code",
   "execution_count": 38,
   "metadata": {},
   "outputs": [
    {
     "name": "stdout",
     "output_type": "stream",
     "text": [
      "{'status': 0, 'message': 'Success', 'service_info': {'uuid': '91de96e8-393e-49f6-81a8-2d2a51cf39dc', 'service_type': 'accounting', 'service_url': 'http://130.61.60.88:8080/t/accounting', 'public_certificate': {'bytes': 'LS0tLS1CRUdJTiBQVUJMSUMgS0VZLS0tLS0KTUlJQklqQU5CZ2txaGtpRzl3MEJBUUVGQUFPQ0FROEFNSUlCQ2dLQ0FRRUF5SERxbVE4d1FlaHg3M09sMHhZeAp0TXdodEZuRmZZS0UwcmpwVUFpWU5GZ3IrQ1hra3p5cDJ3eGFyc2hWUk50eURQeE9FR1NjQjVaVUJabVJJbkxYCjRrNTNLcjc2K2VEb2NNUVpUN3A2bERHTUkycW5XMXFscTUybE1oRm55d1dmRDU4Q2VrTi84bFBxK3hmYk5NS28KMUNzK0pucjRqUngrWTNtQ0xOQnlRMWxMWXFkeW5xdVF2bWg0cGhqYklxN0tVVXRBbkY3ZDdEVUhyZno1MUVvRwpNbHF5QXkzb29udTFCRlNSWXAvNlE2Z1gwaFhicTJaQTFPR3V3N1lUS1RnaDBGTWpqckw2MnljckVvWUhyczl6ClIydTBDSHZZaFVJbUFIcmMyQ1NSczlUWDRIbkxFcGYyWktrcCt3ZmsxN0IyOHI0TGF4OUlrbytMaElybkVUU0kKZHdJREFRQUIKLS0tLS1FTkQgUFVCTElDIEtFWS0tLS0tCg=='}, 'public_key': {'bytes': 'LS0tLS1CRUdJTiBQVUJMSUMgS0VZLS0tLS0KTUlJQklqQU5CZ2txaGtpRzl3MEJBUUVGQUFPQ0FROEFNSUlCQ2dLQ0FRRUE3MldYMy90WEF6THFkWWNPSEdESAozK21teVp1b0lvSXRGUHF5U1NvUWZGZ1hIclNQZkl2Sy9adzByemFLTkZiaXZYbVdMY21ra3FMMnU3YThQdHhpCjA1L3VzSE5HdUJVL2R1cEZ3cHJEQ3dmTHN2Z3JuZFh1QXc3TVF4STJxTFlSVEYvNVhTcW0zSmdWdHp2elhWcUwKdENMcnFIRzZMWU1KZUhvN2ZyQkJ1eVFSeDhrL0o0TC9mVlJMOGdFbWs1UXlBeWl4UDRxbXFiblRvSHFIc2lwcApZVXBJMXUzYUIvUlZOZTRKSVBUKytzeVVUd3RGR0hBRENQK1hJU2xuM3p6VThYNTdBVXF6Ymx2aG1ac2QwSkZ5Cno5NCtXTTRmRGVibzE0Q0h6NTJLVGgzcnZzaE9Pd3I5Q1NrYlFiQUt4OUV0a3ZpWXFjWVFSbC9Ed2k4MkJCKzIKcFFJREFRQUIKLS0tLS1FTkQgUFVCTElDIEtFWS0tLS0tCg=='}}}\n"
     ]
    }
   ],
   "source": [
    "response = Acquire.Service.call_function(service_url)\n",
    "print(response)"
   ]
  },
  {
   "cell_type": "code",
   "execution_count": 39,
   "metadata": {},
   "outputs": [],
   "source": [
    "key = Acquire.Crypto.PrivateKey()"
   ]
  },
  {
   "cell_type": "code",
   "execution_count": 40,
   "metadata": {},
   "outputs": [],
   "source": [
    "response2 = Acquire.Service.call_function(service_url, response_key=key)"
   ]
  },
  {
   "cell_type": "code",
   "execution_count": 41,
   "metadata": {},
   "outputs": [],
   "source": [
    "assert( response2[\"service_info\"] == response[\"service_info\"] )"
   ]
  },
  {
   "cell_type": "code",
   "execution_count": 42,
   "metadata": {},
   "outputs": [
    {
     "name": "stdout",
     "output_type": "stream",
     "text": [
      "<Acquire.Accounting._accounting_service.AccountingService object at 0x109ebca20>\n"
     ]
    }
   ],
   "source": [
    "service = Acquire.Service.Service.from_data(response[\"service_info\"])\n",
    "print(service)"
   ]
  },
  {
   "cell_type": "code",
   "execution_count": null,
   "metadata": {},
   "outputs": [],
   "source": [
    "response3 = Acquire.Service.call_function(service_url, args_key=service.public_key())\n",
    "print(response3)"
   ]
  },
  {
   "cell_type": "code",
   "execution_count": 34,
   "metadata": {},
   "outputs": [
    {
     "ename": "KeyError",
     "evalue": "'service_info'",
     "output_type": "error",
     "traceback": [
      "\u001b[0;31m---------------------------------------------------------------------------\u001b[0m",
      "\u001b[0;31mKeyError\u001b[0m                                  Traceback (most recent call last)",
      "\u001b[0;32m<ipython-input-34-9e8f1c3ac7eb>\u001b[0m in \u001b[0;36m<module>\u001b[0;34m\u001b[0m\n\u001b[0;32m----> 1\u001b[0;31m \u001b[0;32massert\u001b[0m\u001b[0;34m(\u001b[0m \u001b[0mresponse3\u001b[0m\u001b[0;34m[\u001b[0m\u001b[0;34m\"service_info\"\u001b[0m\u001b[0;34m]\u001b[0m \u001b[0;34m==\u001b[0m \u001b[0mresponse\u001b[0m\u001b[0;34m[\u001b[0m\u001b[0;34m\"service_info\"\u001b[0m\u001b[0;34m]\u001b[0m \u001b[0;34m)\u001b[0m\u001b[0;34m\u001b[0m\u001b[0m\n\u001b[0m",
      "\u001b[0;31mKeyError\u001b[0m: 'service_info'"
     ]
    }
   ],
   "source": [
    "assert( response3[\"service_info\"] == response[\"service_info\"] )"
   ]
  },
  {
   "cell_type": "code",
   "execution_count": 35,
   "metadata": {},
   "outputs": [],
   "source": [
    "response4 = Acquire.Service.call_function(service_url, args_key=service.public_key(), response_key=key)"
   ]
  },
  {
   "cell_type": "code",
   "execution_count": 36,
   "metadata": {},
   "outputs": [
    {
     "ename": "KeyError",
     "evalue": "'service_info'",
     "output_type": "error",
     "traceback": [
      "\u001b[0;31m---------------------------------------------------------------------------\u001b[0m",
      "\u001b[0;31mKeyError\u001b[0m                                  Traceback (most recent call last)",
      "\u001b[0;32m<ipython-input-36-edd3d74fd366>\u001b[0m in \u001b[0;36m<module>\u001b[0;34m\u001b[0m\n\u001b[0;32m----> 1\u001b[0;31m \u001b[0;32massert\u001b[0m\u001b[0;34m(\u001b[0m \u001b[0mresponse4\u001b[0m\u001b[0;34m[\u001b[0m\u001b[0;34m\"service_info\"\u001b[0m\u001b[0;34m]\u001b[0m \u001b[0;34m==\u001b[0m \u001b[0mresponse\u001b[0m\u001b[0;34m[\u001b[0m\u001b[0;34m\"service_info\"\u001b[0m\u001b[0;34m]\u001b[0m \u001b[0;34m)\u001b[0m\u001b[0;34m\u001b[0m\u001b[0m\n\u001b[0m",
      "\u001b[0;31mKeyError\u001b[0m: 'service_info'"
     ]
    }
   ],
   "source": [
    "assert( response4[\"service_info\"] == response[\"service_info\"] )"
   ]
  },
  {
   "cell_type": "code",
   "execution_count": null,
   "metadata": {},
   "outputs": [],
   "source": [
    "user = Acquire.Client.User(\"chryswoods\")"
   ]
  },
  {
   "cell_type": "code",
   "execution_count": null,
   "metadata": {},
   "outputs": [],
   "source": [
    "user_service = user.identity_service()"
   ]
  },
  {
   "cell_type": "code",
   "execution_count": null,
   "metadata": {},
   "outputs": [],
   "source": [
    "assert( user_service.uuid() == service.uuid() )"
   ]
  },
  {
   "cell_type": "code",
   "execution_count": null,
   "metadata": {},
   "outputs": [],
   "source": []
  },
  {
   "cell_type": "code",
   "execution_count": null,
   "metadata": {},
   "outputs": [],
   "source": []
  },
  {
   "cell_type": "code",
   "execution_count": null,
   "metadata": {},
   "outputs": [],
   "source": []
  }
 ],
 "metadata": {
  "kernelspec": {
   "display_name": "Python 3",
   "language": "python",
   "name": "python3"
  },
  "language_info": {
   "codemirror_mode": {
    "name": "ipython",
    "version": 3
   },
   "file_extension": ".py",
   "mimetype": "text/x-python",
   "name": "python",
   "nbconvert_exporter": "python",
   "pygments_lexer": "ipython3",
   "version": "3.7.0"
  }
 },
 "nbformat": 4,
 "nbformat_minor": 2
}
