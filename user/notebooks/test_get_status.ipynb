{
 "cells": [
  {
   "cell_type": "markdown",
   "metadata": {},
   "source": [
    "This notebook is used to test that I can successfully get the status of a service, even if I ask for the service to use a key to encrypt traffic"
   ]
  },
  {
   "cell_type": "code",
   "execution_count": 1,
   "metadata": {},
   "outputs": [],
   "source": [
    "import Acquire"
   ]
  },
  {
   "cell_type": "code",
   "execution_count": 2,
   "metadata": {},
   "outputs": [],
   "source": [
    "service_url = \"http://130.61.60.88:8080/r/identity\""
   ]
  },
  {
   "cell_type": "code",
   "execution_count": 3,
   "metadata": {},
   "outputs": [],
   "source": [
    "response = Acquire.call_function(service_url, {})"
   ]
  },
  {
   "cell_type": "code",
   "execution_count": 4,
   "metadata": {},
   "outputs": [
    {
     "data": {
      "text/plain": [
       "{'status': 0,\n",
       " 'message': 'Success',\n",
       " 'service_info': {'uuid': 'e1751ec9-c5cb-492b-9313-1406281bd939',\n",
       "  'service_type': 'identity',\n",
       "  'service_url': 'http://130.61.60.88:8080/r/identity',\n",
       "  'public_certificate': 'LS0tLS1CRUdJTiBQVUJMSUMgS0VZLS0tLS0KTUlJQklqQU5CZ2txaGtpRzl3MEJBUUVGQUFPQ0FROEFNSUlCQ2dLQ0FRRUF1QXUwK1d2L2hwWkhKY1U3NFI4ZQpBMzBSQUhyWDViVWNRNTFFOVp5aFhTOFYwYU41LzA5cXFqbjJ5bWoxSG1URWZuMFEvZTVadS9RZEhBTXBmVlJ6CldyVlkxSVpycUFGWG1UTlI5cTBJbDduVTRuM0lRMktlVFZsLy9KelA2ZDdnb3gzanpWU3J6ZTloUzNvckJUbHgKOUlBM0VFSTVsVXJCQWRYV1gzVWhLaVZzc3NJQU1HWEhXUHBoakswVmFTNHRvOUp1Vk5aaDdsczV4aHdhUFFnaApOYUVqNzlpWkhtRzJncWRCVlhZSVRYSHlhUXBKSU0xSXBhWUkxUmg2bDlEYUdXZ0JtdWpMVEM4d0laWk1sQ2NWCmJXZ2EyVE1TNUVnckE2QkdKUUJxbE1xMFhCQVBRWm1saDhKU1g0aTE5T1RRcXpGT1FtYWd5cGVST1VYdHdwekQKRndJREFRQUIKLS0tLS1FTkQgUFVCTElDIEtFWS0tLS0tCg==',\n",
       "  'public_key': 'LS0tLS1CRUdJTiBQVUJMSUMgS0VZLS0tLS0KTUlJQklqQU5CZ2txaGtpRzl3MEJBUUVGQUFPQ0FROEFNSUlCQ2dLQ0FRRUFvNUQyZG1GSm1SSEI0T0ROWFFpcwp4QU5wWTlqYXppOXJ3WVZVQ3Nqb0p4NmJhMUFQbDNBeDFnUWEwYWxXcFBlcCtUNzMzTVBybC9wcWROZ0ZvTVQ3CmJ1ZGEvNld0THJOSkdJR0FSN2JLa2xpMlIxd0UzVnVOVXNOTm5QR0xhQU9WZmRKMmNiM2MrcDY5Sy9xTlpRSHMKdjBva3ozZ2QzbG4xMHFmcHlESThGYjlWSEVwcTBZUnZWMDJxajdNMGtVZGRsWkQzMWRWN2c4RlJxcm1LMEI4bApNajNxNDF6YUluUEhxTFVQUnpWSkVTQ2p5OUlZRzhDelRxVml3Nnd5dXdnMlVjSFJPM1pSaTFzN0lFTU0vNzhXCjIvU1Ayek84eHNqNXh1YVpkNlVHcUNpS2JQK2pocVlYOEJIWWNuVzJvU3g2WWI1enR3V1lYZlR2TkwwcmhQUzEKSXdJREFRQUIKLS0tLS1FTkQgUFVCTElDIEtFWS0tLS0tCg=='}}"
      ]
     },
     "execution_count": 4,
     "metadata": {},
     "output_type": "execute_result"
    }
   ],
   "source": [
    "response"
   ]
  },
  {
   "cell_type": "code",
   "execution_count": null,
   "metadata": {},
   "outputs": [],
   "source": [
    "key = Acquire.PrivateKey()"
   ]
  },
  {
   "cell_type": "code",
   "execution_count": null,
   "metadata": {},
   "outputs": [],
   "source": [
    "response2 = Acquire.call_function(service_url, {}, response_key=key)"
   ]
  },
  {
   "cell_type": "code",
   "execution_count": null,
   "metadata": {},
   "outputs": [],
   "source": [
    "assert( response2 == response )"
   ]
  },
  {
   "cell_type": "code",
   "execution_count": null,
   "metadata": {},
   "outputs": [],
   "source": [
    "service = Acquire.Service.from_data(response[\"service_info\"])\n",
    "print(service)"
   ]
  },
  {
   "cell_type": "code",
   "execution_count": null,
   "metadata": {},
   "outputs": [],
   "source": [
    "response3 = Acquire.call_function(service_url, {}, args_key=service.public_key())"
   ]
  },
  {
   "cell_type": "code",
   "execution_count": null,
   "metadata": {},
   "outputs": [],
   "source": [
    "assert( response3 == response )"
   ]
  },
  {
   "cell_type": "code",
   "execution_count": null,
   "metadata": {},
   "outputs": [],
   "source": [
    "response4 = Acquire.call_function(service_url, {}, args_key=service.public_key(), response_key=key)"
   ]
  },
  {
   "cell_type": "code",
   "execution_count": null,
   "metadata": {},
   "outputs": [],
   "source": [
    "assert( response4 == response )"
   ]
  },
  {
   "cell_type": "code",
   "execution_count": null,
   "metadata": {},
   "outputs": [],
   "source": [
    "user = Acquire.User(\"chryswoods\")"
   ]
  },
  {
   "cell_type": "code",
   "execution_count": null,
   "metadata": {},
   "outputs": [],
   "source": [
    "user_service = user.identity_service()"
   ]
  },
  {
   "cell_type": "code",
   "execution_count": null,
   "metadata": {},
   "outputs": [],
   "source": [
    "assert( user_service.uuid() == service.uuid() )"
   ]
  },
  {
   "cell_type": "code",
   "execution_count": null,
   "metadata": {},
   "outputs": [],
   "source": []
  }
 ],
 "metadata": {
  "kernelspec": {
   "display_name": "Python 3",
   "language": "python",
   "name": "python3"
  },
  "language_info": {
   "codemirror_mode": {
    "name": "ipython",
    "version": 3
   },
   "file_extension": ".py",
   "mimetype": "text/x-python",
   "name": "python",
   "nbconvert_exporter": "python",
   "pygments_lexer": "ipython3",
   "version": "3.6.3"
  }
 },
 "nbformat": 4,
 "nbformat_minor": 2
}
