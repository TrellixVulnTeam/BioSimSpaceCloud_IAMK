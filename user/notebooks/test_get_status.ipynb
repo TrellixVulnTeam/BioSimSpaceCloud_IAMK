{
 "cells": [
  {
   "cell_type": "markdown",
   "metadata": {},
   "source": [
    "This notebook is used to test that I can successfully get the status of a service, even if I ask for the service to use a key to encrypt traffic"
   ]
  },
  {
   "cell_type": "code",
   "execution_count": 1,
   "metadata": {},
   "outputs": [],
   "source": [
    "import Acquire"
   ]
  },
  {
   "cell_type": "code",
   "execution_count": 2,
   "metadata": {},
   "outputs": [],
   "source": [
    "service_url = \"http://130.61.60.88:8080/r/access\""
   ]
  },
  {
   "cell_type": "code",
   "execution_count": 3,
   "metadata": {},
   "outputs": [],
   "source": [
    "response = Acquire.call_function(service_url, {})"
   ]
  },
  {
   "cell_type": "code",
   "execution_count": 4,
   "metadata": {},
   "outputs": [
    {
     "data": {
      "text/plain": [
       "{'status': 0,\n",
       " 'message': 'Success',\n",
       " 'service_info': {'uuid': '13709045-13cc-42b3-b845-4502bbf8f676',\n",
       "  'service_type': 'access',\n",
       "  'service_url': 'http://130.61.60.88:8080/r/access',\n",
       "  'public_certificate': 'LS0tLS1CRUdJTiBQVUJMSUMgS0VZLS0tLS0KTUlJQklqQU5CZ2txaGtpRzl3MEJBUUVGQUFPQ0FROEFNSUlCQ2dLQ0FRRUF0eFl0cW5hQmp3V3BuSG1GS2MzOApTTkZwazUyYk4yV1U0RnA4a2tNUEp4VlVZbmJTajdzR2FybkFmaHBYZDB1M0hJcm53eWpnaVBvdVVGQ2hRbDYzCkx5M2pxbWZqRGt6bWl0akU0OFcxWjg4bVlNWnFPWEM3MFBTVjZnejE3MHJyVy9XWnBiZ0FyOFBxckhQOFUxSDkKbzUxM3pjRlQxOEllRjRnQVhLd1VWQ2oyZ0k1Q0txd0NaamMwRENkQnJsSC9FYWJCV2JWQ2E2MnFLc1QrS0VTTQpIUHBnY0NIZWJqWC9ncm1aT3QyM0w4c0hySW1kYlNoTzZlRUpsaDJ5RGpCbVdqcmRCY3RMN2toZkxUZk5pL0RPCnZPTll2ODY1WWZidEJQZ291THpvWlA4blJtbHRSSFNsR2ZQWGwyNFA0ZGRCUHV4aE9GNXNpR1dYY0dlOEd4QloKTlFJREFRQUIKLS0tLS1FTkQgUFVCTElDIEtFWS0tLS0tCg==',\n",
       "  'public_key': 'LS0tLS1CRUdJTiBQVUJMSUMgS0VZLS0tLS0KTUlJQklqQU5CZ2txaGtpRzl3MEJBUUVGQUFPQ0FROEFNSUlCQ2dLQ0FRRUF4NjZydDVxZG1GVEx6QThTY1ZubwpURUZZQ1hCUmpZWnQ5MHVWYXRqMzlLZWh6NWUrTVV0NlBaU2UvSGJ4YmtXNXdHUS9BS2JJRmdLc2ZVRG9EMmNVCncreDRaNmNIT0wwdEJGZXlPYzd6K3QxSlc5U2J2cFhwTTlJRW5zZFdiMFh6elVpWVRGeitsYnVJUS96YkZtVGEKVi9lNVRvK2xtSGdodUpscS9FQzFHOFR4eFdMS3BEZzFKQ2o3QkJ4WlRnMnYrZWtWWTdnYzcyRFpQZlZNRnRQWApRY0ZDSkNXdFFRUWVqU0FJa2tlSFh5UXRGdE5zMjJaWmFYdTdSS2dYTUpxTjlnWGhVK000bTh3NGs4YldJTjRsCkZramJnSUZrRXlsY0xOQXRmMTdIZ21sbWx2TmVwTFVQUjNremlkOVRBelVSMVdPUkljekN2WW5IUG5YdjFPajUKWFFJREFRQUIKLS0tLS1FTkQgUFVCTElDIEtFWS0tLS0tCg=='}}"
      ]
     },
     "execution_count": 4,
     "metadata": {},
     "output_type": "execute_result"
    }
   ],
   "source": [
    "response"
   ]
  },
  {
   "cell_type": "code",
   "execution_count": null,
   "metadata": {},
   "outputs": [],
   "source": [
    "key = Acquire.PrivateKey()"
   ]
  },
  {
   "cell_type": "code",
   "execution_count": null,
   "metadata": {},
   "outputs": [],
   "source": [
    "response2 = Acquire.call_function(service_url, {}, response_key=key)"
   ]
  },
  {
   "cell_type": "code",
   "execution_count": null,
   "metadata": {},
   "outputs": [],
   "source": [
    "assert( response2 == response )"
   ]
  },
  {
   "cell_type": "code",
   "execution_count": null,
   "metadata": {},
   "outputs": [],
   "source": [
    "service = Acquire.Service.from_data(response[\"service_info\"])\n",
    "print(service)"
   ]
  },
  {
   "cell_type": "code",
   "execution_count": null,
   "metadata": {},
   "outputs": [],
   "source": [
    "response3 = Acquire.call_function(service_url, {}, args_key=service.public_key())"
   ]
  },
  {
   "cell_type": "code",
   "execution_count": null,
   "metadata": {},
   "outputs": [],
   "source": [
    "assert( response3 == response )"
   ]
  },
  {
   "cell_type": "code",
   "execution_count": null,
   "metadata": {},
   "outputs": [],
   "source": [
    "response4 = Acquire.call_function(service_url, {}, args_key=service.public_key(), response_key=key)"
   ]
  },
  {
   "cell_type": "code",
   "execution_count": null,
   "metadata": {},
   "outputs": [],
   "source": [
    "assert( response4 == response )"
   ]
  },
  {
   "cell_type": "code",
   "execution_count": null,
   "metadata": {},
   "outputs": [],
   "source": [
    "user = Acquire.User(\"chryswoods\")"
   ]
  },
  {
   "cell_type": "code",
   "execution_count": null,
   "metadata": {},
   "outputs": [],
   "source": [
    "user_service = user.identity_service()"
   ]
  },
  {
   "cell_type": "code",
   "execution_count": null,
   "metadata": {},
   "outputs": [],
   "source": [
    "assert( user_service.uuid() == service.uuid() )"
   ]
  },
  {
   "cell_type": "code",
   "execution_count": null,
   "metadata": {},
   "outputs": [],
   "source": []
  }
 ],
 "metadata": {
  "kernelspec": {
   "display_name": "Python 3",
   "language": "python",
   "name": "python3"
  },
  "language_info": {
   "codemirror_mode": {
    "name": "ipython",
    "version": 3
   },
   "file_extension": ".py",
   "mimetype": "text/x-python",
   "name": "python",
   "nbconvert_exporter": "python",
   "pygments_lexer": "ipython3",
   "version": "3.6.3"
  }
 },
 "nbformat": 4,
 "nbformat_minor": 2
}
