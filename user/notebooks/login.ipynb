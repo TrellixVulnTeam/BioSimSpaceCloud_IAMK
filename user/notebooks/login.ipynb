{
 "cells": [
  {
   "cell_type": "markdown",
   "metadata": {},
   "source": [
    "This notebook demonstrates how to request a login to the system from within a jupyter notebook. This will request a login and will provide a URL to which you should connect to supply your login credentials."
   ]
  },
  {
   "cell_type": "code",
   "execution_count": 1,
   "metadata": {},
   "outputs": [],
   "source": [
    "from Acquire import User"
   ]
  },
  {
   "cell_type": "markdown",
   "metadata": {},
   "source": [
    "First create a User object with your username..."
   ]
  },
  {
   "cell_type": "code",
   "execution_count": 2,
   "metadata": {},
   "outputs": [],
   "source": [
    "user = User(\"testuser\")"
   ]
  },
  {
   "cell_type": "markdown",
   "metadata": {},
   "source": [
    "Next, request a login session. This will populate the User object with the keys and certificates needed to interact with the session. This call will return a unique login URL (and corresponding QR code) to which you must connect to supply your password and one-time-code"
   ]
  },
  {
   "cell_type": "code",
   "execution_count": 3,
   "metadata": {},
   "outputs": [],
   "source": [
    "(url,qrcode) = user.request_login()"
   ]
  },
  {
   "cell_type": "markdown",
   "metadata": {},
   "source": [
    "Connect to the login server via the below QR code"
   ]
  },
  {
   "cell_type": "code",
   "execution_count": 4,
   "metadata": {},
   "outputs": [
    {
     "data": {
      "image/png": "[encoded data removed]",
      "text/plain": [
       "<qrcode.image.pil.PilImage at 0x10f3092e8>"
      ]
     },
     "execution_count": 4,
     "metadata": {},
     "output_type": "execute_result"
    }
   ],
   "source": [
    "qrcode"
   ]
  },
  {
   "cell_type": "markdown",
   "metadata": {},
   "source": [
    "(or you can connect directly by clicking below)"
   ]
  },
  {
   "cell_type": "code",
   "execution_count": 5,
   "metadata": {},
   "outputs": [
    {
     "name": "stdout",
     "output_type": "stream",
     "text": [
      "http://130.61.60.88:8080/r/identity/03a305a1\n"
     ]
    },
    {
     "data": {
      "text/html": [
       "<a href='http://130.61.60.88:8080/r/identity/03a305a1'>Login here</a>"
      ],
      "text/plain": [
       "<IPython.core.display.HTML object>"
      ]
     },
     "execution_count": 5,
     "metadata": {},
     "output_type": "execute_result"
    }
   ],
   "source": [
    "from IPython.core.display import HTML\n",
    "print(url)\n",
    "HTML(\"<a href='%s'>Login here</a>\" % url)"
   ]
  },
  {
   "cell_type": "markdown",
   "metadata": {},
   "source": [
    "We now need to wait until the user has logged in..."
   ]
  },
  {
   "cell_type": "code",
   "execution_count": 6,
   "metadata": {
    "scrolled": true
   },
   "outputs": [
    {
     "name": "stdout",
     "output_type": "stream",
     "text": [
      "{'status': 0, 'message': 'Success: Status = unapproved', 'session_status': 'unapproved'}\n",
      "{'status': 0, 'message': 'Success: Status = unapproved', 'session_status': 'unapproved'}\n",
      "{'status': 0, 'message': 'Success: Status = unapproved', 'session_status': 'unapproved'}\n",
      "{'status': 0, 'message': 'Success: Status = unapproved', 'session_status': 'unapproved'}\n",
      "{'status': 0, 'message': 'Success: Status = unapproved', 'session_status': 'unapproved'}\n",
      "{'status': 0, 'message': 'Success: Status = unapproved', 'session_status': 'unapproved'}\n",
      "{'status': 0, 'message': 'Success: Status = unapproved', 'session_status': 'unapproved'}\n",
      "{'status': 0, 'message': 'Success: Status = unapproved', 'session_status': 'unapproved'}\n",
      "{'status': 0, 'message': 'Success: Status = unapproved', 'session_status': 'unapproved'}\n",
      "{'status': 0, 'message': 'Success: Status = unapproved', 'session_status': 'unapproved'}\n",
      "{'status': 0, 'message': 'Success: Status = approved', 'session_status': 'approved'}\n"
     ]
    },
    {
     "data": {
      "text/plain": [
       "True"
      ]
     },
     "execution_count": 6,
     "metadata": {},
     "output_type": "execute_result"
    }
   ],
   "source": [
    "user.wait_for_login()"
   ]
  },
  {
   "cell_type": "markdown",
   "metadata": {},
   "source": [
    "You can get the status of the login by querying the user object, e.g."
   ]
  },
  {
   "cell_type": "code",
   "execution_count": null,
   "metadata": {},
   "outputs": [],
   "source": [
    "user.is_logged_in()"
   ]
  },
  {
   "cell_type": "markdown",
   "metadata": {},
   "source": [
    "When you have finished, you should log out. The system will auto-logout after a period of time, and closing the notebook should send a logout request. However, it is still polite to log out at the end :-)"
   ]
  },
  {
   "cell_type": "code",
   "execution_count": null,
   "metadata": {},
   "outputs": [],
   "source": [
    "user.logout()"
   ]
  },
  {
   "cell_type": "code",
   "execution_count": null,
   "metadata": {},
   "outputs": [],
   "source": []
  }
 ],
 "metadata": {
  "kernelspec": {
   "display_name": "Python 3",
   "language": "python",
   "name": "python3"
  },
  "language_info": {
   "codemirror_mode": {
    "name": "ipython",
    "version": 3
   },
   "file_extension": ".py",
   "mimetype": "text/x-python",
   "name": "python",
   "nbconvert_exporter": "python",
   "pygments_lexer": "ipython3",
   "version": "3.6.3"
  }
 },
 "nbformat": 4,
 "nbformat_minor": 2
}
