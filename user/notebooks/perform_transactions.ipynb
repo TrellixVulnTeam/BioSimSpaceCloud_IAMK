{
 "cells": [
  {
   "cell_type": "code",
   "execution_count": 1,
   "metadata": {},
   "outputs": [],
   "source": [
    "import Acquire.Client\n",
    "import Acquire.Accounting"
   ]
  },
  {
   "cell_type": "code",
   "execution_count": 2,
   "metadata": {},
   "outputs": [],
   "source": [
    "user = Acquire.Client.User(\"chryswoods\")"
   ]
  },
  {
   "cell_type": "code",
   "execution_count": 3,
   "metadata": {},
   "outputs": [
    {
     "data": {
      "text/plain": [
       "('http://130.61.60.88:8080/r/identity/4f604a6b',\n",
       " <qrcode.image.pil.PilImage at 0x10ff0bb70>)"
      ]
     },
     "execution_count": 3,
     "metadata": {},
     "output_type": "execute_result"
    }
   ],
   "source": [
    "user.request_login()"
   ]
  },
  {
   "cell_type": "code",
   "execution_count": 4,
   "metadata": {},
   "outputs": [
    {
     "data": {
      "text/plain": [
       "True"
      ]
     },
     "execution_count": 4,
     "metadata": {},
     "output_type": "execute_result"
    }
   ],
   "source": [
    "user.wait_for_login()\n",
    "user.is_logged_in()"
   ]
  },
  {
   "cell_type": "code",
   "execution_count": 5,
   "metadata": {},
   "outputs": [
    {
     "data": {
      "text/plain": [
       "{'status': 0,\n",
       " 'message': 'Success',\n",
       " 'transaction_records': [{'credit_note': {'account_uid': 'a5c9b900-9d59-4861-a3a2-2fb92d7f2156',\n",
       "    'debit_account_uid': '2ef8b484-5990-4b6b-b83c-bf541f350177',\n",
       "    'uid': '2018-10-08/1539021951.781473/bde946c0',\n",
       "    'debit_note_uid': '2018-10-08/1539021951.740728/edc75b94',\n",
       "    'timestamp': 1539021951.781473,\n",
       "    'value': '5.000000',\n",
       "    'is_provisional': False},\n",
       "   'debit_note': {'transaction': {'value': '5.000000',\n",
       "     'description': 'Deposit on 2018-10-08 18:05:47.104598'},\n",
       "    'account_uid': '2ef8b484-5990-4b6b-b83c-bf541f350177',\n",
       "    'authorisation': {'user_uid': '6f463b04-be60-4fbd-a2b6-44caaa61ac41',\n",
       "     'session_uid': '4f604a6b-3b97-4344-9588-4e506fdea676',\n",
       "     'identity_url': 'http://130.61.60.88:8080/r/identity',\n",
       "     'auth_timestamp': 1539021938.653067,\n",
       "     'signature': 'fs1LgV5k9aPT/8C7qZxwQfjT/o/Y0RfdR0FJb+cgNkDR57M+pVsoLMybYGHY0v+JwYXAP9eoeX/ENUnkjMgGq4MRUiQfVpZ32I5Ab9HQf66jngFIMziqZX+ASj9gJC1Xtf07I5wO1ogxiYjf4rTsP6PbF7hNqtDTAYTwXgrhfiSpjxbfU2VeU9/XX3LK7nyTBZTnOYpoD6XNU/7Wf0Q2iAk129A0DhjrsTNqkOb4Uw5hs0X0meHIVxwaMQydoHgGpOy6fCdVUuZXtc+hc5nBW6WKL+N1J/+5oTWiwtL52R835iIQR/VAMn3R7qPfAxv1rs5Bn528tt6+UXWW/af1vw=='},\n",
       "    'is_provisional': False,\n",
       "    'timestamp': 1539021951.740728,\n",
       "    'uid': '2018-10-08/1539021951.740728/edc75b94'},\n",
       "   'transaction_state': 'DR'}],\n",
       " 'invoice_user': '6f463b04-be60-4fbd-a2b6-44caaa61ac41',\n",
       " 'invoice_value': '-85.000000'}"
      ]
     },
     "execution_count": 5,
     "metadata": {},
     "output_type": "execute_result"
    }
   ],
   "source": [
    "Acquire.Client.deposit(user=user, value=5.0)"
   ]
  },
  {
   "cell_type": "code",
   "execution_count": 6,
   "metadata": {},
   "outputs": [],
   "source": [
    "accounts = Acquire.Client.get_accounts(user)"
   ]
  },
  {
   "cell_type": "code",
   "execution_count": 7,
   "metadata": {},
   "outputs": [],
   "source": [
    "assert(len(accounts) > 1)"
   ]
  },
  {
   "cell_type": "code",
   "execution_count": 8,
   "metadata": {},
   "outputs": [
    {
     "name": "stdout",
     "output_type": "stream",
     "text": [
      "   0: Account(name='another account', uid=9db88d64-abcd-4ed6-b739-e4af7d7b79b9) - balance = 0.000000\n",
      "   1: Account(name='billing', uid=2ef8b484-5990-4b6b-b83c-bf541f350177) - balance = -85.000000\n",
      "   2: Account(name='deposits', uid=a5c9b900-9d59-4861-a3a2-2fb92d7f2156) - balance = 78.000000\n",
      "   3: Account(name='main account', uid=b3d113c2-aa2b-4f04-a2a7-8d7eecdb3f91) - balance = 7.000000\n"
     ]
    }
   ],
   "source": [
    "for (i,account) in enumerate(accounts):\n",
    "    print(\"%4d: %s - balance = %s\" % (i, str(account), account.balance()))"
   ]
  },
  {
   "cell_type": "code",
   "execution_count": 9,
   "metadata": {},
   "outputs": [
    {
     "name": "stdout",
     "output_type": "stream",
     "text": [
      "Account(name='deposits', uid=a5c9b900-9d59-4861-a3a2-2fb92d7f2156) Account(name='main account', uid=b3d113c2-aa2b-4f04-a2a7-8d7eecdb3f91)\n"
     ]
    }
   ],
   "source": [
    "account0 = accounts[2]\n",
    "account1 = accounts[3]\n",
    "print(account0, account1)"
   ]
  },
  {
   "cell_type": "code",
   "execution_count": 10,
   "metadata": {},
   "outputs": [],
   "source": [
    "transaction = Acquire.Accounting.Transaction(3.5, \"test transaction\")"
   ]
  },
  {
   "cell_type": "code",
   "execution_count": 11,
   "metadata": {},
   "outputs": [],
   "source": [
    "record = account0.perform(transaction, account1)"
   ]
  },
  {
   "cell_type": "code",
   "execution_count": 12,
   "metadata": {},
   "outputs": [
    {
     "name": "stdout",
     "output_type": "stream",
     "text": [
      "[{'credit_note': {'account_uid': 'b3d113c2-aa2b-4f04-a2a7-8d7eecdb3f91', 'debit_account_uid': 'a5c9b900-9d59-4861-a3a2-2fb92d7f2156', 'uid': '2018-10-08/1539022009.561174/6d7d0075', 'debit_note_uid': '2018-10-08/1539022009.515339/22043d2a', 'timestamp': 1539022009.561174, 'value': '3.500000', 'is_provisional': False}, 'debit_note': {'transaction': {'value': '3.500000', 'description': 'test transaction'}, 'account_uid': 'a5c9b900-9d59-4861-a3a2-2fb92d7f2156', 'authorisation': {'user_uid': '6f463b04-be60-4fbd-a2b6-44caaa61ac41', 'session_uid': '4f604a6b-3b97-4344-9588-4e506fdea676', 'identity_url': 'http://130.61.60.88:8080/r/identity', 'auth_timestamp': 1539022004.939617, 'signature': 'GN7/TcLWb1ghiUAB7eU1TyQOUjGJWMA3+Xf+4toyr0VMf9lln5rognaQvF00TL4RQ5/AYr5MDipqBImJAvRDIzxj+pHecAjs4wl671L5Nm/oaE20TaEadZHzCOVtO03SfSAc9P0L11msOZTqB68nt9noLfjCxePxhlj33ohmBroxU0O9ucALPzK4nZOYyjNfeXahqsRDcLDPnZ+3WCPjjQ/L6bB26EchiY+2tY6AaO/+/M5jhKA3ga+LuD5SwiiOtnKUu4V5ob44IYpun1XM4Et2Qe/fGu/eD011PoSnUEgwnEBB44ADzVkvQcbw0cxEw6Ex61C5gPZYQDjq6/Ksqw=='}, 'is_provisional': False, 'timestamp': 1539022009.515339, 'uid': '2018-10-08/1539022009.515339/22043d2a'}, 'transaction_state': 'DR'}]\n"
     ]
    }
   ],
   "source": [
    "print(record)"
   ]
  },
  {
   "cell_type": "code",
   "execution_count": 14,
   "metadata": {},
   "outputs": [
    {
     "name": "stdout",
     "output_type": "stream",
     "text": [
      "   0: Account(name='another account', uid=9db88d64-abcd-4ed6-b739-e4af7d7b79b9) - balance = 0.000000\n",
      "   1: Account(name='billing', uid=2ef8b484-5990-4b6b-b83c-bf541f350177) - balance = -85.000000\n",
      "   2: Account(name='deposits', uid=a5c9b900-9d59-4861-a3a2-2fb92d7f2156) - balance = 74.500000\n",
      "   3: Account(name='main account', uid=b3d113c2-aa2b-4f04-a2a7-8d7eecdb3f91) - balance = 10.500000\n"
     ]
    }
   ],
   "source": [
    "for (i,account) in enumerate(accounts):\n",
    "    print(\"%4d: %s - balance = %s\" % (i, str(account), account.balance()))"
   ]
  },
  {
   "cell_type": "code",
   "execution_count": 15,
   "metadata": {},
   "outputs": [
    {
     "name": "stdout",
     "output_type": "stream",
     "text": [
      "Logging out chryswoods from session 4f604a6b-3b97-4344-9588-4e506fdea676\n",
      "{'status': 0, 'message': 'Successfully logged out'}\n"
     ]
    },
    {
     "data": {
      "text/plain": [
       "{'status': 0, 'message': 'Successfully logged out'}"
      ]
     },
     "execution_count": 15,
     "metadata": {},
     "output_type": "execute_result"
    }
   ],
   "source": [
    "user.logout()"
   ]
  },
  {
   "cell_type": "code",
   "execution_count": null,
   "metadata": {},
   "outputs": [],
   "source": []
  }
 ],
 "metadata": {
  "kernelspec": {
   "display_name": "Python 3",
   "language": "python",
   "name": "python3"
  },
  "language_info": {
   "codemirror_mode": {
    "name": "ipython",
    "version": 3
   },
   "file_extension": ".py",
   "mimetype": "text/x-python",
   "name": "python",
   "nbconvert_exporter": "python",
   "pygments_lexer": "ipython3",
   "version": "3.6.3"
  }
 },
 "nbformat": 4,
 "nbformat_minor": 2
}
