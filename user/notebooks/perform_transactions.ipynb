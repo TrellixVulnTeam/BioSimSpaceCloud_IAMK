{
 "cells": [
  {
   "cell_type": "code",
   "execution_count": 1,
   "metadata": {},
   "outputs": [],
   "source": [
    "import Acquire.Client\n",
    "import Acquire.Accounting"
   ]
  },
  {
   "cell_type": "code",
   "execution_count": 2,
   "metadata": {},
   "outputs": [],
   "source": [
    "user = Acquire.Client.User(\"chryswoods\")"
   ]
  },
  {
   "cell_type": "code",
   "execution_count": 3,
   "metadata": {},
   "outputs": [
    {
     "data": {
      "text/plain": [
       "('http://130.61.60.88:8080/r/identity/48da826a',\n",
       " <qrcode.image.pil.PilImage at 0x10ff7db70>)"
      ]
     },
     "execution_count": 3,
     "metadata": {},
     "output_type": "execute_result"
    }
   ],
   "source": [
    "user.request_login()"
   ]
  },
  {
   "cell_type": "code",
   "execution_count": 4,
   "metadata": {},
   "outputs": [
    {
     "data": {
      "text/plain": [
       "True"
      ]
     },
     "execution_count": 4,
     "metadata": {},
     "output_type": "execute_result"
    }
   ],
   "source": [
    "user.wait_for_login()\n",
    "user.is_logged_in()"
   ]
  },
  {
   "cell_type": "code",
   "execution_count": 6,
   "metadata": {},
   "outputs": [
    {
     "ename": "RemoteFunctionCallError",
     "evalue": "Error calling 'http://130.61.60.88:8080/r/accounting/deposit'. Server returned error code '-2' with message 'ValueError: You must supply a valid transaction that represents the deposit\nTraceback:\n  File \"deposit.py\", line 59, in handler\n    raise ValueError(\"You must supply a valid transaction that \"\n'",
     "output_type": "error",
     "traceback": [
      "\u001b[0;31m---------------------------------------------------------------------------\u001b[0m",
      "\u001b[0;31mRemoteFunctionCallError\u001b[0m                   Traceback (most recent call last)",
      "\u001b[0;32m<ipython-input-6-1500a5d38603>\u001b[0m in \u001b[0;36m<module>\u001b[0;34m()\u001b[0m\n\u001b[0;32m----> 1\u001b[0;31m \u001b[0mAcquire\u001b[0m\u001b[0;34m.\u001b[0m\u001b[0mClient\u001b[0m\u001b[0;34m.\u001b[0m\u001b[0mdeposit\u001b[0m\u001b[0;34m(\u001b[0m\u001b[0muser\u001b[0m\u001b[0;34m=\u001b[0m\u001b[0muser\u001b[0m\u001b[0;34m,\u001b[0m \u001b[0mvalue\u001b[0m\u001b[0;34m=\u001b[0m\u001b[0;36m25.0\u001b[0m\u001b[0;34m)\u001b[0m\u001b[0;34m\u001b[0m\u001b[0m\n\u001b[0m",
      "\u001b[0;32m~/Work/BioSimSpaceCloud/Acquire/Client/_account.py\u001b[0m in \u001b[0;36mdeposit\u001b[0;34m(user, value, description, accounting_service, accounting_url)\u001b[0m\n\u001b[1;32m    226\u001b[0m                     \u001b[0margs_key\u001b[0m\u001b[0;34m=\u001b[0m\u001b[0maccounting_service\u001b[0m\u001b[0;34m.\u001b[0m\u001b[0mpublic_key\u001b[0m\u001b[0;34m(\u001b[0m\u001b[0;34m)\u001b[0m\u001b[0;34m,\u001b[0m\u001b[0;34m\u001b[0m\u001b[0m\n\u001b[1;32m    227\u001b[0m                     \u001b[0mresponse_key\u001b[0m\u001b[0;34m=\u001b[0m\u001b[0mprivkey\u001b[0m\u001b[0;34m,\u001b[0m\u001b[0;34m\u001b[0m\u001b[0m\n\u001b[0;32m--> 228\u001b[0;31m                     public_cert=accounting_service.public_certificate())\n\u001b[0m\u001b[1;32m    229\u001b[0m \u001b[0;34m\u001b[0m\u001b[0m\n\u001b[1;32m    230\u001b[0m     \u001b[0;32mreturn\u001b[0m \u001b[0mresult\u001b[0m\u001b[0;34m\u001b[0m\u001b[0m\n",
      "\u001b[0;32m~/Work/BioSimSpaceCloud/Acquire/Service/_function.py\u001b[0m in \u001b[0;36mcall_function\u001b[0;34m(function_url, args, args_key, response_key, public_cert)\u001b[0m\n\u001b[1;32m    272\u001b[0m                 \u001b[0;34m\"Error calling '%s'. Server returned \"\u001b[0m\u001b[0;34m\u001b[0m\u001b[0m\n\u001b[1;32m    273\u001b[0m                 \u001b[0;34m\"error code '%d' with message '%s'\"\u001b[0m \u001b[0;34m%\u001b[0m\u001b[0;34m\u001b[0m\u001b[0m\n\u001b[0;32m--> 274\u001b[0;31m                 (function_url, result[\"status\"], result[\"message\"]))\n\u001b[0m\u001b[1;32m    275\u001b[0m \u001b[0;34m\u001b[0m\u001b[0m\n\u001b[1;32m    276\u001b[0m     \u001b[0;32mreturn\u001b[0m \u001b[0mresult\u001b[0m\u001b[0;34m\u001b[0m\u001b[0m\n",
      "\u001b[0;31mRemoteFunctionCallError\u001b[0m: Error calling 'http://130.61.60.88:8080/r/accounting/deposit'. Server returned error code '-2' with message 'ValueError: You must supply a valid transaction that represents the deposit\nTraceback:\n  File \"deposit.py\", line 59, in handler\n    raise ValueError(\"You must supply a valid transaction that \"\n'"
     ]
    }
   ],
   "source": [
    "Acquire.Client.deposit(user=user, value=25.0)"
   ]
  },
  {
   "cell_type": "code",
   "execution_count": null,
   "metadata": {},
   "outputs": [],
   "source": [
    "accounts = Acquire.Client.get_accounts(user)"
   ]
  },
  {
   "cell_type": "code",
   "execution_count": null,
   "metadata": {},
   "outputs": [],
   "source": [
    "assert(len(accounts) > 1)"
   ]
  },
  {
   "cell_type": "code",
   "execution_count": null,
   "metadata": {},
   "outputs": [],
   "source": [
    "account0 = accounts[0]\n",
    "account1 = accounts[1]\n",
    "print(account0, account1)"
   ]
  },
  {
   "cell_type": "code",
   "execution_count": null,
   "metadata": {},
   "outputs": [],
   "source": [
    "transaction = Acquire.Accounting.Transaction(3.5, \"test transaction\")"
   ]
  },
  {
   "cell_type": "code",
   "execution_count": null,
   "metadata": {},
   "outputs": [],
   "source": [
    "record = account0.perform(transaction, account1)"
   ]
  },
  {
   "cell_type": "code",
   "execution_count": null,
   "metadata": {},
   "outputs": [],
   "source": [
    "user.logout()"
   ]
  },
  {
   "cell_type": "code",
   "execution_count": null,
   "metadata": {},
   "outputs": [],
   "source": []
  }
 ],
 "metadata": {
  "kernelspec": {
   "display_name": "Python 3",
   "language": "python",
   "name": "python3"
  },
  "language_info": {
   "codemirror_mode": {
    "name": "ipython",
    "version": 3
   },
   "file_extension": ".py",
   "mimetype": "text/x-python",
   "name": "python",
   "nbconvert_exporter": "python",
   "pygments_lexer": "ipython3",
   "version": "3.6.3"
  }
 },
 "nbformat": 4,
 "nbformat_minor": 2
}
